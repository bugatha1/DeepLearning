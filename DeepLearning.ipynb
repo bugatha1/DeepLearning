{
  "nbformat": 4,
  "nbformat_minor": 0,
  "metadata": {
    "colab": {
      "name": "DeepLearning.ipynb",
      "provenance": [],
      "authorship_tag": "ABX9TyMmnMC/joO7pP6NeY0o6jqH",
      "include_colab_link": true
    },
    "kernelspec": {
      "name": "python3",
      "display_name": "Python 3"
    },
    "language_info": {
      "name": "python"
    }
  },
  "cells": [
    {
      "cell_type": "markdown",
      "metadata": {
        "id": "view-in-github",
        "colab_type": "text"
      },
      "source": [
        "<a href=\"https://colab.research.google.com/github/bugatha1/DeepLearning/blob/main/DeepLearning.ipynb\" target=\"_parent\"><img src=\"https://colab.research.google.com/assets/colab-badge.svg\" alt=\"Open In Colab\"/></a>"
      ]
    },
    {
      "cell_type": "markdown",
      "source": [
        "# Activation Functions"
      ],
      "metadata": {
        "id": "9YmTEM9kTIAl"
      }
    },
    {
      "cell_type": "markdown",
      "source": [
        "# Threshold Function\n",
        "\n",
        "If x < 0 = 0                                                                    \n",
        "If x >= 0 = 1                                                                   \n",
        "This function return 0 if x less than 0 or 1 if x greater or equal 0. "
      ],
      "metadata": {
        "id": "N_M4VcyOTMdA"
      }
    },
    {
      "cell_type": "markdown",
      "source": [
        "# Sigmoid Function\n",
        "\n",
        "x = 1/(1+pow-1(e)) "
      ],
      "metadata": {
        "id": "vLXkkeY-Uu9k"
      }
    },
    {
      "cell_type": "markdown",
      "source": [
        "# Rectifier Function\n",
        "\n",
        "x = max(x, 0)"
      ],
      "metadata": {
        "id": "i3cflq7-VNNF"
      }
    },
    {
      "cell_type": "markdown",
      "source": [
        "# Hyperbolic Tangent(Tanh)\n",
        "\n",
        "x = (1 - (e powerof -2x))/(1 + (e powerof -2x))"
      ],
      "metadata": {
        "id": "3VWYqekPVfk9"
      }
    },
    {
      "cell_type": "markdown",
      "source": [
        "# Cross Functions\n",
        "\n",
        "In neural network cross function refers loss                                    \n",
        "C = sum(1/2(y^ - y)power2)\n"
      ],
      "metadata": {
        "id": "G8NWwvi6Z3iY"
      }
    },
    {
      "cell_type": "markdown",
      "source": [
        "# Gradient Descent\n",
        "\n",
        "Desending towards minimum of the cross function.\n",
        "It minimize the cross function value by existing weights"
      ],
      "metadata": {
        "id": "XWIg3PxstLD5"
      }
    }
  ]
}