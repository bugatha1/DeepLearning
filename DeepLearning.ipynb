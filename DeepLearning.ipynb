{
  "nbformat": 4,
  "nbformat_minor": 0,
  "metadata": {
    "colab": {
      "name": "DeepLearning.ipynb",
      "provenance": [],
      "authorship_tag": "ABX9TyMAts3FlpFqLoYQRiZSzeIC",
      "include_colab_link": true
    },
    "kernelspec": {
      "name": "python3",
      "display_name": "Python 3"
    },
    "language_info": {
      "name": "python"
    }
  },
  "cells": [
    {
      "cell_type": "markdown",
      "metadata": {
        "id": "view-in-github",
        "colab_type": "text"
      },
      "source": [
        "<a href=\"https://colab.research.google.com/github/bugatha1/DeepLearning/blob/main/DeepLearning.ipynb\" target=\"_parent\"><img src=\"https://colab.research.google.com/assets/colab-badge.svg\" alt=\"Open In Colab\"/></a>"
      ]
    },
    {
      "cell_type": "markdown",
      "source": [
        "# Activation Functions"
      ],
      "metadata": {
        "id": "9YmTEM9kTIAl"
      }
    },
    {
      "cell_type": "markdown",
      "source": [
        "# Threshold Function\n",
        "\n",
        "If x < 0 = 0                                                                    \n",
        "If x >= 0 = 1                                                                   \n",
        "This function return 0 if x less than 0 or 1 if x greater or equal 0. "
      ],
      "metadata": {
        "id": "N_M4VcyOTMdA"
      }
    },
    {
      "cell_type": "markdown",
      "source": [
        "# Sigmoid Function\n",
        "\n",
        "x = 1/(1+pow-1(e)) "
      ],
      "metadata": {
        "id": "vLXkkeY-Uu9k"
      }
    },
    {
      "cell_type": "markdown",
      "source": [
        "# Rectifier Function\n",
        "\n",
        "x = max(x, 0)"
      ],
      "metadata": {
        "id": "i3cflq7-VNNF"
      }
    },
    {
      "cell_type": "markdown",
      "source": [
        "# Hyperbolic Tangent(Tanh)\n",
        "\n",
        "x = (1 - (e powerof -2x))/(1 + (e powerof -2x))"
      ],
      "metadata": {
        "id": "3VWYqekPVfk9"
      }
    },
    {
      "cell_type": "markdown",
      "source": [
        "# Cross Functions\n",
        "\n",
        "In neural network cross function refers loss                                    \n",
        "C = sum(1/2(y^ - y)power2)\n"
      ],
      "metadata": {
        "id": "G8NWwvi6Z3iY"
      }
    },
    {
      "cell_type": "markdown",
      "source": [
        "# Gradient Descent\n",
        "\n",
        "Desending towards minimum of the cross function.\n",
        "It minimize the cross function value by existing weights"
      ],
      "metadata": {
        "id": "XWIg3PxstLD5"
      }
    },
    {
      "cell_type": "markdown",
      "source": [
        "# Traninig the ANN with Stochastic Gradient descent\n",
        "\n",
        "step1 : Ramdomly initialise the weights to small number close to 0 (but not 0). \n",
        "step2 : Input the first observation of your dataset in the input layer, each feature is one input in node.                                                   \n",
        "step3: Forward-propagation: from left to right, the neurons activated in a way that the impact of each neuron's activation is limited by the weights. Propagate the activations until getting the predicted results.                  \n",
        "step4: Compare the predicted result with actual result. Measure the generated error.\n",
        "step5: Back-propagation: from right to left the error is back propagated. Update the weights according to how much they are responsible for the error. The learning rate decides by how much we updated the weights.                  \n",
        "step6: Repeat step 1 to 5  and update the weights after each observation(Reinforcement learning) Or Repeat steps 1 to 5 but update the weights only after a batch of observations (Batch learning)                                 \n",
        "step7 : When the whole training set passed through the ANN, that makes an epoch. Redo more epochs \n"
      ],
      "metadata": {
        "id": "_dc6X5ZyS4Ft"
      }
    },
    {
      "cell_type": "code",
      "source": [
        "# Buid the ANN\n",
        "import tensorflow as tf\n",
        "\n",
        "ann = tf.keras.models.Sequential()\n",
        "ann.add(tf.keras.layers.Dense(units=6, activation='relu'))\n",
        "ann.add(tf.keras.layers.Dense(units=6, activation='relu'))\n",
        "ann.add(tf.keras.layers.Dense(units=1, activation='sigmoid'))"
      ],
      "metadata": {
        "id": "JlBO8nlgcmeK"
      },
      "execution_count": null,
      "outputs": []
    }
  ]
}